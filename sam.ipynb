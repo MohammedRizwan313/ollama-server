{
 "cells": [
  {
   "cell_type": "code",
   "execution_count": 2,
   "metadata": {},
   "outputs": [
    {
     "name": "stdout",
     "output_type": "stream",
     "text": [
      "Collecting ollama\n",
      "  Using cached ollama-0.4.4-py3-none-any.whl.metadata (4.7 kB)\n",
      "Requirement already satisfied: httpx<0.28.0,>=0.27.0 in c:\\users\\renot\\.conda\\envs\\test_env\\lib\\site-packages (from ollama) (0.27.0)\n",
      "Requirement already satisfied: pydantic<3.0.0,>=2.9.0 in c:\\users\\renot\\.conda\\envs\\test_env\\lib\\site-packages (from ollama) (2.10.3)\n",
      "Requirement already satisfied: anyio in c:\\users\\renot\\.conda\\envs\\test_env\\lib\\site-packages (from httpx<0.28.0,>=0.27.0->ollama) (4.6.2)\n",
      "Requirement already satisfied: certifi in c:\\users\\renot\\.conda\\envs\\test_env\\lib\\site-packages (from httpx<0.28.0,>=0.27.0->ollama) (2024.8.30)\n",
      "Requirement already satisfied: httpcore==1.* in c:\\users\\renot\\.conda\\envs\\test_env\\lib\\site-packages (from httpx<0.28.0,>=0.27.0->ollama) (1.0.2)\n",
      "Requirement already satisfied: idna in c:\\users\\renot\\.conda\\envs\\test_env\\lib\\site-packages (from httpx<0.28.0,>=0.27.0->ollama) (3.7)\n",
      "Requirement already satisfied: sniffio in c:\\users\\renot\\.conda\\envs\\test_env\\lib\\site-packages (from httpx<0.28.0,>=0.27.0->ollama) (1.3.0)\n",
      "Requirement already satisfied: h11<0.15,>=0.13 in c:\\users\\renot\\.conda\\envs\\test_env\\lib\\site-packages (from httpcore==1.*->httpx<0.28.0,>=0.27.0->ollama) (0.14.0)\n",
      "Requirement already satisfied: annotated-types>=0.6.0 in c:\\users\\renot\\.conda\\envs\\test_env\\lib\\site-packages (from pydantic<3.0.0,>=2.9.0->ollama) (0.7.0)\n",
      "Requirement already satisfied: pydantic-core==2.27.1 in c:\\users\\renot\\.conda\\envs\\test_env\\lib\\site-packages (from pydantic<3.0.0,>=2.9.0->ollama) (2.27.1)\n",
      "Requirement already satisfied: typing-extensions>=4.12.2 in c:\\users\\renot\\.conda\\envs\\test_env\\lib\\site-packages (from pydantic<3.0.0,>=2.9.0->ollama) (4.12.2)\n",
      "Using cached ollama-0.4.4-py3-none-any.whl (13 kB)\n",
      "Installing collected packages: ollama\n",
      "Successfully installed ollama-0.4.4\n",
      "Note: you may need to restart the kernel to use updated packages.\n"
     ]
    }
   ],
   "source": [
    "pip install ollama"
   ]
  },
  {
   "cell_type": "code",
   "execution_count": 3,
   "metadata": {},
   "outputs": [
    {
     "name": "stdout",
     "output_type": "stream",
     "text": [
      "The reason why the sky appears blue is due to a phenomenon called scattering, which occurs when sunlight interacts with the tiny molecules of gases in the Earth's atmosphere.\n",
      "\n",
      "Here's what happens:\n",
      "\n",
      "1. When sunlight enters the Earth's atmosphere, it encounters tiny molecules of gases such as nitrogen (N2) and oxygen (O2).\n",
      "2. These molecules scatter the light in all directions, but they scatter shorter (blue) wavelengths more than longer (red) wavelengths.\n",
      "3. This is known as Rayleigh scattering, named after the British physicist Lord Rayleigh, who first described it in the late 19th century.\n",
      "4. As a result of this scattering, the blue light is dispersed throughout the atmosphere, reaching our eyes from all directions.\n",
      "5. Our brains then interpret this scattered blue light as the color of the sky.\n",
      "\n",
      "It's worth noting that the color of the sky can change depending on various factors, such as:\n",
      "\n",
      "* Time of day: During sunrise and sunset, the sky often takes on hues of red, orange, and pink due to the scattering of longer wavelengths by atmospheric particles.\n",
      "* Atmospheric conditions: Dust, pollution, and water vapor in the air can scatter light in different ways, changing the apparent color of the sky.\n",
      "* Altitude: The color of the sky can also change with altitude, as the atmosphere becomes thinner and the amount of scattered light increases.\n",
      "\n",
      "So, there you have it! The blue color of the sky is a result of the scattering of sunlight by tiny molecules in the Earth's atmosphere.\n",
      "The reason why the sky appears blue is due to a phenomenon called scattering, which occurs when sunlight interacts with the tiny molecules of gases in the Earth's atmosphere.\n",
      "\n",
      "Here's what happens:\n",
      "\n",
      "1. When sunlight enters the Earth's atmosphere, it encounters tiny molecules of gases such as nitrogen (N2) and oxygen (O2).\n",
      "2. These molecules scatter the light in all directions, but they scatter shorter (blue) wavelengths more than longer (red) wavelengths.\n",
      "3. This is known as Rayleigh scattering, named after the British physicist Lord Rayleigh, who first described it in the late 19th century.\n",
      "4. As a result of this scattering, the blue light is dispersed throughout the atmosphere, reaching our eyes from all directions.\n",
      "5. Our brains then interpret this scattered blue light as the color of the sky.\n",
      "\n",
      "It's worth noting that the color of the sky can change depending on various factors, such as:\n",
      "\n",
      "* Time of day: During sunrise and sunset, the sky often takes on hues of red, orange, and pink due to the scattering of longer wavelengths by atmospheric particles.\n",
      "* Atmospheric conditions: Dust, pollution, and water vapor in the air can scatter light in different ways, changing the apparent color of the sky.\n",
      "* Altitude: The color of the sky can also change with altitude, as the atmosphere becomes thinner and the amount of scattered light increases.\n",
      "\n",
      "So, there you have it! The blue color of the sky is a result of the scattering of sunlight by tiny molecules in the Earth's atmosphere.\n"
     ]
    }
   ],
   "source": [
    "from ollama import chat\n",
    "from ollama import ChatResponse\n",
    "\n",
    "response: ChatResponse = chat(model='llama3.2', messages=[\n",
    "  {\n",
    "    'role': 'user',\n",
    "    'content': 'Why is the sky blue?',\n",
    "  },\n",
    "])\n",
    "print(response['message']['content'])\n",
    "# or access fields directly from the response object\n",
    "print(response.message.content)"
   ]
  },
  {
   "cell_type": "code",
   "execution_count": null,
   "metadata": {},
   "outputs": [],
   "source": []
  }
 ],
 "metadata": {
  "kernelspec": {
   "display_name": "test_env",
   "language": "python",
   "name": "python3"
  },
  "language_info": {
   "codemirror_mode": {
    "name": "ipython",
    "version": 3
   },
   "file_extension": ".py",
   "mimetype": "text/x-python",
   "name": "python",
   "nbconvert_exporter": "python",
   "pygments_lexer": "ipython3",
   "version": "3.11.8"
  }
 },
 "nbformat": 4,
 "nbformat_minor": 2
}
